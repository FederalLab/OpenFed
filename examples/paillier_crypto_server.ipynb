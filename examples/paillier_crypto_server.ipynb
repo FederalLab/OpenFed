{
 "cells": [
  {
   "cell_type": "markdown",
   "id": "5ec7a3f4",
   "metadata": {},
   "source": [
    "# Paillier Crypto"
   ]
  },
  {
   "cell_type": "markdown",
   "id": "cc625ba3",
   "metadata": {},
   "source": [
    "## Generate Public and Private Key"
   ]
  },
  {
   "cell_type": "code",
   "execution_count": 1,
   "id": "ec2beb63",
   "metadata": {},
   "outputs": [
    {
     "name": "stdout",
     "output_type": "stream",
     "text": [
      "Load private key from /tmp/private.key\n",
      "\u001b[0;34m<OpenFed>\u001b[0m \u001b[0;35mPrivateKey\u001b[0m\n",
      "+-------+------+-----------+----+-------+------------+------------+\n",
      "| n_lwe | bits | bits_safe | l  | bound |     p      |     q      |\n",
      "+-------+------+-----------+----+-------+------------+------------+\n",
      "|  3000 |  32  |     24    | 64 |   8   | 4294967297 | 4294967296 |\n",
      "+-------+------+-----------+----+-------+------------+------------+\n",
      "\n"
     ]
    }
   ],
   "source": [
    "import os\n",
    "\n",
    "import torch\n",
    "\n",
    "from openfed.functional import PrivateKey, key_gen\n",
    "\n",
    "if not os.path.isfile('/tmp/public.key') or not os.path.isfile(\n",
    "        '/tmp/private.key'):\n",
    "    public_key, private_key = key_gen()\n",
    "    public_key.save('/tmp/public.key')\n",
    "    private_key.save('/tmp/private.key')\n",
    "    print(\"Save new key to /tmp/public.key and /tmp/private.key\")\n",
    "else:\n",
    "    private_key = PrivateKey.load('/tmp/private.key')\n",
    "    print(\"Load private key from /tmp/private.key\")\n",
    "print(private_key)"
   ]
  },
  {
   "cell_type": "markdown",
   "id": "2db765db",
   "metadata": {},
   "source": [
    "## Network"
   ]
  },
  {
   "cell_type": "code",
   "execution_count": 2,
   "id": "2d4e3722",
   "metadata": {},
   "outputs": [],
   "source": [
    "import torch.nn as nn\n",
    "\n",
    "network = nn.Linear(784, 10)\n",
    "loss_fn = nn.CrossEntropyLoss()"
   ]
  },
  {
   "cell_type": "markdown",
   "id": "71a254a5",
   "metadata": {},
   "source": [
    "## Optimizer"
   ]
  },
  {
   "cell_type": "code",
   "execution_count": 3,
   "id": "355aab3f",
   "metadata": {},
   "outputs": [
    {
     "name": "stdout",
     "output_type": "stream",
     "text": [
      "\u001b[0;34m<OpenFed>\u001b[0m \u001b[0;35mFederatedOptimizer\u001b[0m\n",
      "SGD (\n",
      "Parameter Group 0\n",
      "    dampening: 0\n",
      "    lr: 1.0\n",
      "    momentum: 0\n",
      "    nesterov: False\n",
      "    weight_decay: 0\n",
      ")\n",
      "\n"
     ]
    }
   ],
   "source": [
    "import torch\n",
    "from openfed.federated import aggregator\n",
    "from openfed.optim import FederatedOptimizer\n",
    "\n",
    "optim = torch.optim.SGD(network.parameters(), lr=1.0)\n",
    "fed_optim = FederatedOptimizer(optim, role=aggregator)\n",
    "print(fed_optim)"
   ]
  },
  {
   "cell_type": "markdown",
   "id": "d53d42bd",
   "metadata": {},
   "source": [
    "## Topology"
   ]
  },
  {
   "cell_type": "code",
   "execution_count": 4,
   "id": "7e76e2e5",
   "metadata": {},
   "outputs": [
    {
     "name": "stdout",
     "output_type": "stream",
     "text": [
      "\u001b[0;34m<OpenFed>\u001b[0m \u001b[0;35mFederatedProperties\u001b[0m\n",
      "+----------------+-----------+\n",
      "|      role      | nick_name |\n",
      "+----------------+-----------+\n",
      "| openfed_aggregator |   server  |\n",
      "+----------------+-----------+\n",
      "\u001b[0;34m<OpenFed>\u001b[0m \u001b[0;35mAddress\u001b[0m\n",
      "+---------+---------------------+------------+------+\n",
      "| backend |     init_method     | world_size | rank |\n",
      "+---------+---------------------+------------+------+\n",
      "|   gloo  | tcp://localhost:... |     2      |  0   |\n",
      "+---------+---------------------+------------+------+\n",
      "\n",
      "\n"
     ]
    }
   ],
   "source": [
    "from openfed.topo import Node, Topology, analysis\n",
    "import openfed\n",
    "\n",
    "server_node = Node('server', openfed.default_tcp_address)\n",
    "client = Node('client', openfed.empty_address)\n",
    "\n",
    "topology = Topology()\n",
    "topology.add_edge(client, server_node)\n",
    "\n",
    "fed_props = analysis(topology, server_node)[0]\n",
    "\n",
    "print(fed_props)"
   ]
  },
  {
   "cell_type": "markdown",
   "id": "50cf53c2",
   "metadata": {},
   "source": [
    "## Maintainer"
   ]
  },
  {
   "cell_type": "code",
   "execution_count": 5,
   "id": "14f2bc7f",
   "metadata": {},
   "outputs": [
    {
     "name": "stdout",
     "output_type": "stream",
     "text": [
      "\u001b[0;34m<OpenFed>\u001b[0m \u001b[0;35mMaintainer\u001b[0m\n",
      "+----------------+-----------+-------+\n",
      "|      role      | nick_name | pipes |\n",
      "+----------------+-----------+-------+\n",
      "| openfed_aggregator |   server  |   1   |\n",
      "+----------------+-----------+-------+\n",
      "\n"
     ]
    }
   ],
   "source": [
    "from openfed.core import Maintainer\n",
    "\n",
    "mt = Maintainer(fed_props, network.state_dict(keep_vars=True))\n",
    "\n",
    "with mt:\n",
    "    openfed.F.device_alignment()\n",
    "    openfed.F.count_step(2)\n",
    "\n",
    "print(mt)"
   ]
  },
  {
   "cell_type": "markdown",
   "id": "f9361936",
   "metadata": {},
   "source": [
    "# Step"
   ]
  },
  {
   "cell_type": "code",
   "execution_count": 6,
   "id": "fbb85b4a",
   "metadata": {},
   "outputs": [
    {
     "name": "stderr",
     "output_type": "stream",
     "text": [
      "100%|██████████| 5/5 [00:08<00:00,  1.78s/it]\n"
     ]
    }
   ],
   "source": [
    "openfed.api(mt,\n",
    "            fed_optim,\n",
    "            5,\n",
    "            agg_func=openfed.F.paillier_aggregation,\n",
    "            private_key=private_key)"
   ]
  }
 ],
 "metadata": {
  "kernelspec": {
   "display_name": "Python 3",
   "language": "python",
   "name": "python3"
  },
  "language_info": {
   "codemirror_mode": {
    "name": "ipython",
    "version": 3
   },
   "file_extension": ".py",
   "mimetype": "text/x-python",
   "name": "python",
   "nbconvert_exporter": "python",
   "pygments_lexer": "ipython3",
   "version": "3.7.10"
  }
 },
 "nbformat": 4,
 "nbformat_minor": 5
}
