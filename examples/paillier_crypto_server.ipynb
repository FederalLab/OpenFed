{
 "cells": [
  {
   "cell_type": "markdown",
   "id": "5ec7a3f4",
   "metadata": {},
   "source": [
    "# Paillier Crypto"
   ]
  },
  {
   "cell_type": "markdown",
   "id": "cc625ba3",
   "metadata": {},
   "source": [
    "## Generate Public and Private Key"
   ]
  },
  {
   "cell_type": "code",
   "execution_count": 1,
   "id": "ec2beb63",
   "metadata": {},
   "outputs": [
    {
     "name": "stdout",
     "output_type": "stream",
     "text": [
      "Load private key from /tmp/private.key\n",
      "\u001b[0;34m<OpenFed>\u001b[0m \u001b[0;35mPrivateKey\u001b[0m\n",
      "n_lwe: 3000, bits: 32, bits_safe: 24, l: 64, bound: 8, p: 4294967297, q: 4294967296\n",
      "\n"
     ]
    }
   ],
   "source": [
    "from openfed.hooks.cypher.paillier_crypto import key_gen\n",
    "import os\n",
    "import torch\n",
    "\n",
    "if not os.path.isfile('/tmp/public.key') or not os.path.isfile('/tmp/private.key'):\n",
    "    public_key, private_key = key_gen()\n",
    "    torch.save(public_key, '/tmp/public.key')\n",
    "    torch.save(private_key, '/tmp/private.key')\n",
    "    print(\"Save new key to /tmp/public.key and /tmp/private.key\")\n",
    "else:\n",
    "    private_key = torch.load('/tmp/private.key')\n",
    "    print(\"Load private key from /tmp/private.key\")\n",
    "    print(private_key)"
   ]
  },
  {
   "cell_type": "markdown",
   "id": "2db765db",
   "metadata": {},
   "source": [
    "## Network"
   ]
  },
  {
   "cell_type": "code",
   "execution_count": 2,
   "id": "2d4e3722",
   "metadata": {},
   "outputs": [],
   "source": [
    "import torch.nn as nn\n",
    "\n",
    "network = nn.Linear(784, 10)\n",
    "loss_fn = nn.CrossEntropyLoss()"
   ]
  },
  {
   "cell_type": "markdown",
   "id": "3c37ea73",
   "metadata": {},
   "source": [
    "## Aggregator"
   ]
  },
  {
   "cell_type": "code",
   "execution_count": 3,
   "id": "14d3260d",
   "metadata": {},
   "outputs": [
    {
     "name": "stdout",
     "output_type": "stream",
     "text": [
      "\u001b[0;34m<OpenFed>\u001b[0m \u001b[0;35mGluer\u001b[0m\n",
      "Gluer_PaillierOp_ReduceOp\n",
      "\n"
     ]
    }
   ],
   "source": [
    "from openfed.optim import PaillierOp, build_aggregator\n",
    "\n",
    "agg_op = PaillierOp(network.parameters(), private_key)\n",
    "\n",
    "aggregator = build_aggregator(agg_op)\n",
    "\n",
    "print(aggregator)"
   ]
  },
  {
   "cell_type": "markdown",
   "id": "71a254a5",
   "metadata": {},
   "source": [
    "## Build Optimizer"
   ]
  },
  {
   "cell_type": "code",
   "execution_count": 4,
   "id": "355aab3f",
   "metadata": {},
   "outputs": [
    {
     "name": "stdout",
     "output_type": "stream",
     "text": [
      "\u001b[0;34m<OpenFed>\u001b[0m \u001b[0;35mGluer\u001b[0m\n",
      "Gluer_SGD_Penalizer\n",
      "\n"
     ]
    }
   ],
   "source": [
    "import torch\n",
    "\n",
    "from openfed.optim import build_fed_optim\n",
    "\n",
    "optim = torch.optim.SGD(network.parameters(), lr=1.0)\n",
    "fed_optim = build_fed_optim(optim)\n",
    "\n",
    "print(fed_optim)"
   ]
  },
  {
   "cell_type": "markdown",
   "id": "d53d42bd",
   "metadata": {},
   "source": [
    "## Topology"
   ]
  },
  {
   "cell_type": "code",
   "execution_count": 5,
   "id": "7e76e2e5",
   "metadata": {},
   "outputs": [
    {
     "name": "stdout",
     "output_type": "stream",
     "text": [
      "openfed_leader, server, mtt=5\n",
      "Address(backend='gloo', init_method='tcp://localhost:1994', world_size=2, rank=0)\n"
     ]
    }
   ],
   "source": [
    "import openfed\n",
    "\n",
    "server_node = openfed.topo.Node('server', openfed.default_tcp_address, mtt=5)\n",
    "client = openfed.topo.Node('client', openfed.empty_address, mtt=5)\n",
    "\n",
    "topology = openfed.topo.Topology()\n",
    "topology.add_edge(client, server_node)\n",
    "\n",
    "federated_group_props = topology.topology_analysis(server_node)[0]\n",
    "\n",
    "print(federated_group_props)"
   ]
  },
  {
   "cell_type": "markdown",
   "id": "50cf53c2",
   "metadata": {},
   "source": [
    "## API"
   ]
  },
  {
   "cell_type": "code",
   "execution_count": 6,
   "id": "14f2bc7f",
   "metadata": {},
   "outputs": [
    {
     "name": "stdout",
     "output_type": "stream",
     "text": [
      "<openfed.api.API object at 0x7f8280f9ec10>\n"
     ]
    }
   ],
   "source": [
    "from openfed import API\n",
    "openfed_api = API(\n",
    "    state_dict=network.state_dict(keep_vars=True),\n",
    "    fed_optim=fed_optim,\n",
    "    aggregator=aggregator)\n",
    "\n",
    "print(openfed_api)"
   ]
  },
  {
   "cell_type": "markdown",
   "id": "f9361936",
   "metadata": {},
   "source": [
    "# Step"
   ]
  },
  {
   "cell_type": "code",
   "execution_count": 7,
   "id": "fbb85b4a",
   "metadata": {},
   "outputs": [
    {
     "name": "stdout",
     "output_type": "stream",
     "text": [
      "\u001b[0;34m<OpenFed>\u001b[0m \u001b[0;35mAggregateStep\u001b[0m\n",
      "period: 1 day, 0:00:00, activated_parts: {'train': 2}, checkpoint: None\n",
      "max_loop_times: -1, max_version: 50\n",
      "\n"
     ]
    }
   ],
   "source": [
    "from openfed.hooks import Aggregate\n",
    "\n",
    "with openfed_api: \n",
    "    aggregate = Aggregate(\n",
    "        activated_parts=dict(train=2),\n",
    "        max_version=50,\n",
    "    )\n",
    "    print(aggregate)"
   ]
  },
  {
   "cell_type": "markdown",
   "id": "885ded1d",
   "metadata": {},
   "source": [
    "## Connection"
   ]
  },
  {
   "cell_type": "code",
   "execution_count": 8,
   "id": "dd3db72d",
   "metadata": {},
   "outputs": [],
   "source": [
    "openfed_api.build_connection(federated_group_props)"
   ]
  },
  {
   "cell_type": "markdown",
   "id": "6330f18f",
   "metadata": {},
   "source": [
    "## Loop"
   ]
  },
  {
   "cell_type": "code",
   "execution_count": 9,
   "id": "f7074abe",
   "metadata": {},
   "outputs": [
    {
     "name": "stderr",
     "output_type": "stream",
     "text": [
      "<Round: 1> train: 100%|██████████| 2/2 [00:01<00:00,  1.04it/s]\n",
      "<Round: 2> train: 100%|██████████| 2/2 [00:02<00:00,  1.01s/it]\n",
      "<Round: 3> train: 100%|██████████| 2/2 [00:01<00:00,  1.05it/s]\n",
      "<Round: 4> train: 100%|██████████| 2/2 [00:01<00:00,  1.11it/s]\n",
      "<Round: 5> train: 100%|██████████| 2/2 [00:01<00:00,  1.12it/s]\n"
     ]
    }
   ],
   "source": [
    "for r in range(5):\n",
    "    openfed_api.step()"
   ]
  },
  {
   "cell_type": "markdown",
   "id": "7fda5e78",
   "metadata": {},
   "source": [
    "## Finished"
   ]
  },
  {
   "cell_type": "code",
   "execution_count": 10,
   "id": "c538f8fd",
   "metadata": {},
   "outputs": [
    {
     "name": "stdout",
     "output_type": "stream",
     "text": [
      "Finished\n"
     ]
    }
   ],
   "source": [
    "openfed_api.finish()\n",
    "\n",
    "print(\"Finished\")"
   ]
  },
  {
   "cell_type": "code",
   "execution_count": null,
   "id": "fc0ae1fc",
   "metadata": {},
   "outputs": [],
   "source": []
  }
 ],
 "metadata": {
  "kernelspec": {
   "display_name": "Python 3",
   "language": "python",
   "name": "python3"
  },
  "language_info": {
   "codemirror_mode": {
    "name": "ipython",
    "version": 3
   },
   "file_extension": ".py",
   "mimetype": "text/x-python",
   "name": "python",
   "nbconvert_exporter": "python",
   "pygments_lexer": "ipython3",
   "version": "3.7.10"
  }
 },
 "nbformat": 4,
 "nbformat_minor": 5
}
