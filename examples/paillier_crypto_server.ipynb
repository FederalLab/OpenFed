{
 "cells": [
  {
   "cell_type": "markdown",
   "id": "5ec7a3f4",
   "metadata": {},
   "source": [
    "# Paillier Crypto"
   ]
  },
  {
   "cell_type": "markdown",
   "id": "cc625ba3",
   "metadata": {},
   "source": [
    "## Generate Public and Private Key"
   ]
  },
  {
   "cell_type": "code",
   "execution_count": 1,
   "id": "ec2beb63",
   "metadata": {},
   "outputs": [
    {
     "name": "stderr",
     "output_type": "stream",
     "text": [
      "/Users/densechen/miniconda3/envs/openfed/lib/python3.7/site-packages/openfed-0.0.0-py3.7.egg/openfed/third_party/mmcv/__init__.py:13: UserWarning: `openfed.third_party.mmcv` module requires `mmcv` package, but not found. You can install it from https://github.com/open-mmlab/mmcv.\n"
     ]
    },
    {
     "name": "stdout",
     "output_type": "stream",
     "text": [
      "Save new key to /tmp/public.key and /tmp/private.key\n"
     ]
    }
   ],
   "source": [
    "from openfed.hooks.cypher.paillier_crypto import key_gen\n",
    "import os\n",
    "import torch\n",
    "\n",
    "if not os.path.isfile('/tmp/public.key') or not os.path.isfile('/tmp/private.key'):\n",
    "    public_key, private_key = key_gen()\n",
    "    torch.save(public_key, '/tmp/public.key')\n",
    "    torch.save(private_key, '/tmp/private.key')\n",
    "    print(\"Save new key to /tmp/public.key and /tmp/private.key\")\n",
    "else:\n",
    "    private_key = torch.load('/tmp/private.key')\n",
    "    print(\"Load private key from /tmp/private.key\")\n",
    "    print(private_key)"
   ]
  },
  {
   "cell_type": "markdown",
   "id": "2db765db",
   "metadata": {},
   "source": [
    "## Network"
   ]
  },
  {
   "cell_type": "code",
   "execution_count": 2,
   "id": "2d4e3722",
   "metadata": {},
   "outputs": [],
   "source": [
    "import torch.nn as nn\n",
    "\n",
    "network = nn.Linear(784, 10)\n",
    "loss_fn = nn.CrossEntropyLoss()"
   ]
  },
  {
   "cell_type": "markdown",
   "id": "3c37ea73",
   "metadata": {},
   "source": [
    "## Aggregator"
   ]
  },
  {
   "cell_type": "code",
   "execution_count": 3,
   "id": "14d3260d",
   "metadata": {},
   "outputs": [
    {
     "name": "stdout",
     "output_type": "stream",
     "text": [
      "\u001b[0;34m<OpenFed>\u001b[0m \u001b[0;35mGluer\u001b[0m\n",
      "Gluer_PaillierOp_ReduceOp\n",
      "\n"
     ]
    }
   ],
   "source": [
    "from openfed.optim import PaillierOp, build_aggregator\n",
    "\n",
    "agg_op = PaillierOp(network.parameters(), private_key)\n",
    "\n",
    "aggregator = build_aggregator(agg_op)\n",
    "\n",
    "print(aggregator)"
   ]
  },
  {
   "cell_type": "markdown",
   "id": "71a254a5",
   "metadata": {},
   "source": [
    "## Build Optimizer"
   ]
  },
  {
   "cell_type": "code",
   "execution_count": 4,
   "id": "355aab3f",
   "metadata": {},
   "outputs": [
    {
     "name": "stdout",
     "output_type": "stream",
     "text": [
      "\u001b[0;34m<OpenFed>\u001b[0m \u001b[0;35mGluer\u001b[0m\n",
      "Gluer_SGD_Penalizer\n",
      "\n"
     ]
    }
   ],
   "source": [
    "import torch\n",
    "\n",
    "from openfed.optim import build_fed_optim\n",
    "\n",
    "optim = torch.optim.SGD(network.parameters(), lr=1.0)\n",
    "fed_optim = build_fed_optim(optim)\n",
    "\n",
    "print(fed_optim)"
   ]
  },
  {
   "cell_type": "markdown",
   "id": "d53d42bd",
   "metadata": {},
   "source": [
    "## World"
   ]
  },
  {
   "cell_type": "code",
   "execution_count": 5,
   "id": "7e76e2e5",
   "metadata": {},
   "outputs": [
    {
     "name": "stdout",
     "output_type": "stream",
     "text": [
      "\u001b[0;34m<OpenFed>\u001b[0m \u001b[0;35mWorld\u001b[0m\n",
      "+----------------+-------+-------+-----+------+\n",
      "|      role      | alive |  dal  | mtt | pipe |\n",
      "+----------------+-------+-------+-----+------+\n",
      "| openfed_leader |  True | False |  5  |  0   |\n",
      "+----------------+-------+-------+-----+------+\n",
      "\n"
     ]
    }
   ],
   "source": [
    "from openfed.core import World, leader\n",
    "\n",
    "world = World(role=leader, dal=False, mtt=5)\n",
    "\n",
    "print(world)"
   ]
  },
  {
   "cell_type": "markdown",
   "id": "50cf53c2",
   "metadata": {},
   "source": [
    "## API"
   ]
  },
  {
   "cell_type": "code",
   "execution_count": 6,
   "id": "14f2bc7f",
   "metadata": {},
   "outputs": [
    {
     "name": "stdout",
     "output_type": "stream",
     "text": [
      "\u001b[0;34m<OpenFed>\u001b[0m \u001b[0;35mOpenFedAPI\u001b[0m\n",
      "ROLE: openfed_leader\n",
      "\n"
     ]
    }
   ],
   "source": [
    "from openfed import API\n",
    "openfed_api = API(\n",
    "    world=world,\n",
    "    state_dict=network.state_dict(keep_vars=True),\n",
    "    fed_optim=fed_optim,\n",
    "    aggregator=aggregator)\n",
    "\n",
    "print(openfed_api)"
   ]
  },
  {
   "cell_type": "markdown",
   "id": "f9361936",
   "metadata": {},
   "source": [
    "# Step"
   ]
  },
  {
   "cell_type": "code",
   "execution_count": 7,
   "id": "fbb85b4a",
   "metadata": {},
   "outputs": [
    {
     "name": "stdout",
     "output_type": "stream",
     "text": [
      "\u001b[0;34m<OpenFed>\u001b[0m \u001b[0;35mAggregateStep\u001b[0m\n",
      "period: 1 day, 0:00:00, activated_parts: {'train': 2}, checkpoint: None\n",
      "max_loop_tiems: -1, max_version: 50\n",
      "\n"
     ]
    }
   ],
   "source": [
    "from openfed.hooks import Aggregate\n",
    "\n",
    "with openfed_api: \n",
    "    aggregate = Aggregate(\n",
    "        activated_parts=dict(train=2),\n",
    "        max_version=50,\n",
    "    )\n",
    "    print(aggregate)"
   ]
  },
  {
   "cell_type": "markdown",
   "id": "502025ba",
   "metadata": {},
   "source": [
    "## Address"
   ]
  },
  {
   "cell_type": "code",
   "execution_count": 8,
   "id": "c36bb875",
   "metadata": {},
   "outputs": [
    {
     "name": "stdout",
     "output_type": "stream",
     "text": [
      "Address(backend='gloo', init_method='tcp://localhost:1994', world_size=2, rank=-1, store=None, group_name='OpenFed')\n"
     ]
    }
   ],
   "source": [
    "from openfed.common import default_tcp_address\n",
    "\n",
    "address = default_tcp_address\n",
    "\n",
    "print(address)"
   ]
  },
  {
   "cell_type": "markdown",
   "id": "885ded1d",
   "metadata": {},
   "source": [
    "## Connection"
   ]
  },
  {
   "cell_type": "code",
   "execution_count": 9,
   "id": "dd3db72d",
   "metadata": {},
   "outputs": [
    {
     "name": "stdout",
     "output_type": "stream",
     "text": [
      "\u001b[0;34m<OpenFed>\u001b[0m \u001b[0;35mMaintainer\u001b[0m\n",
      "+---------+----------+---------+\n",
      "| Pending | Finished | Discard |\n",
      "+---------+----------+---------+\n",
      "|    1    |    0     |    0    |\n",
      "+---------+----------+---------+\n",
      "\n"
     ]
    }
   ],
   "source": [
    "import time\n",
    "openfed_api.build_connection(address=address)\n",
    "\n",
    "print(openfed_api.federated_group)"
   ]
  },
  {
   "cell_type": "markdown",
   "id": "6330f18f",
   "metadata": {},
   "source": [
    "## Loop"
   ]
  },
  {
   "cell_type": "code",
   "execution_count": 10,
   "id": "f7074abe",
   "metadata": {},
   "outputs": [
    {
     "name": "stderr",
     "output_type": "stream",
     "text": [
      "<Round: 1> train: 100%|██████████| 2/2 [00:02<00:00,  1.29s/it]\n",
      "<Round: 2> train: 100%|██████████| 2/2 [00:02<00:00,  1.17s/it]\n",
      "<Round: 3> train: 100%|██████████| 2/2 [00:02<00:00,  1.18s/it]\n",
      "<Round: 4> train: 100%|██████████| 2/2 [00:02<00:00,  1.07s/it]\n",
      "<Round: 5> train: 100%|██████████| 2/2 [00:02<00:00,  1.07s/it]\n",
      "<Round: 6> train: 100%|██████████| 2/2 [00:02<00:00,  1.07s/it]\n",
      "<Round: 7> train: 100%|██████████| 2/2 [00:02<00:00,  1.28s/it]\n",
      "<Round: 8> train: 100%|██████████| 2/2 [00:02<00:00,  1.05s/it]\n",
      "<Round: 9> train: 100%|██████████| 2/2 [00:02<00:00,  1.06s/it]\n",
      "<Round: 10> train: 100%|██████████| 2/2 [00:02<00:00,  1.17s/it]\n",
      "<Round: 11> train: 100%|██████████| 2/2 [00:02<00:00,  1.07s/it]\n",
      "<Round: 12> train: 100%|██████████| 2/2 [00:02<00:00,  1.18s/it]\n",
      "<Round: 13> train: 100%|██████████| 2/2 [00:02<00:00,  1.06s/it]\n",
      "<Round: 14> train: 100%|██████████| 2/2 [00:02<00:00,  1.06s/it]\n",
      "<Round: 15> train: 100%|██████████| 2/2 [00:02<00:00,  1.04s/it]\n",
      "<Round: 16> train: 100%|██████████| 2/2 [00:02<00:00,  1.06s/it]\n",
      "<Round: 17> train: 100%|██████████| 2/2 [00:02<00:00,  1.27s/it]\n",
      "<Round: 18> train: 100%|██████████| 2/2 [00:02<00:00,  1.27s/it]\n",
      "<Round: 19> train: 100%|██████████| 2/2 [00:02<00:00,  1.06s/it]\n",
      "<Round: 20> train: 100%|██████████| 2/2 [00:02<00:00,  1.17s/it]\n",
      "<Round: 21> train: 100%|██████████| 2/2 [00:02<00:00,  1.16s/it]\n",
      "<Round: 22> train: 100%|██████████| 2/2 [00:02<00:00,  1.05s/it]\n",
      "<Round: 23> train: 100%|██████████| 2/2 [00:02<00:00,  1.05s/it]\n",
      "<Round: 24> train: 100%|██████████| 2/2 [00:02<00:00,  1.05s/it]\n",
      "<Round: 25> train: 100%|██████████| 2/2 [00:02<00:00,  1.16s/it]\n",
      "<Round: 26> train: 100%|██████████| 2/2 [00:02<00:00,  1.05s/it]\n",
      "<Round: 27> train: 100%|██████████| 2/2 [00:01<00:00,  1.19it/s]\n",
      "<Round: 28> train: 100%|██████████| 2/2 [00:01<00:00,  1.07it/s]\n",
      "<Round: 29> train: 100%|██████████| 2/2 [00:01<00:00,  1.19it/s]\n",
      "<Round: 30> train: 100%|██████████| 2/2 [00:01<00:00,  1.06it/s]\n",
      "<Round: 31> train: 100%|██████████| 2/2 [00:01<00:00,  1.06it/s]\n",
      "<Round: 32> train: 100%|██████████| 2/2 [00:01<00:00,  1.05it/s]\n",
      "<Round: 33> train: 100%|██████████| 2/2 [00:01<00:00,  1.07it/s]\n",
      "<Round: 34> train: 100%|██████████| 2/2 [00:02<00:00,  1.05s/it]\n",
      "<Round: 35> train: 100%|██████████| 2/2 [00:02<00:00,  1.05s/it]\n",
      "<Round: 36> train: 100%|██████████| 2/2 [00:02<00:00,  1.26s/it]\n",
      "<Round: 37> train: 100%|██████████| 2/2 [00:02<00:00,  1.15s/it]\n",
      "<Round: 38> train: 100%|██████████| 2/2 [00:02<00:00,  1.04s/it]\n",
      "<Round: 39> train: 100%|██████████| 2/2 [00:02<00:00,  1.06s/it]\n",
      "<Round: 40> train: 100%|██████████| 2/2 [00:01<00:00,  1.06it/s]\n",
      "<Round: 41> train: 100%|██████████| 2/2 [00:02<00:00,  1.05s/it]\n",
      "<Round: 42> train: 100%|██████████| 2/2 [00:02<00:00,  1.06s/it]\n",
      "<Round: 43> train: 100%|██████████| 2/2 [00:01<00:00,  1.05it/s]\n",
      "<Round: 44> train: 100%|██████████| 2/2 [00:01<00:00,  1.06it/s]\n",
      "<Round: 45> train: 100%|██████████| 2/2 [00:02<00:00,  1.06s/it]\n",
      "<Round: 46> train: 100%|██████████| 2/2 [00:01<00:00,  1.07it/s]\n",
      "<Round: 47> train: 100%|██████████| 2/2 [00:01<00:00,  1.05it/s]\n",
      "<Round: 48> train: 100%|██████████| 2/2 [00:01<00:00,  1.06it/s]\n",
      "<Round: 49> train: 100%|██████████| 2/2 [00:02<00:00,  1.06s/it]\n",
      "<Round: 50> train: 100%|██████████| 2/2 [00:02<00:00,  1.05s/it]\n"
     ]
    }
   ],
   "source": [
    "openfed_api.run()"
   ]
  },
  {
   "cell_type": "markdown",
   "id": "7fda5e78",
   "metadata": {},
   "source": [
    "## Finished"
   ]
  },
  {
   "cell_type": "code",
   "execution_count": 11,
   "id": "c538f8fd",
   "metadata": {},
   "outputs": [
    {
     "name": "stdout",
     "output_type": "stream",
     "text": [
      "Finished\n"
     ]
    }
   ],
   "source": [
    "openfed_api.finish()\n",
    "\n",
    "print(\"Finished\")"
   ]
  },
  {
   "cell_type": "code",
   "execution_count": null,
   "id": "fc0ae1fc",
   "metadata": {},
   "outputs": [],
   "source": []
  }
 ],
 "metadata": {
  "kernelspec": {
   "display_name": "Python 3",
   "language": "python",
   "name": "python3"
  },
  "language_info": {
   "codemirror_mode": {
    "name": "ipython",
    "version": 3
   },
   "file_extension": ".py",
   "mimetype": "text/x-python",
   "name": "python",
   "nbconvert_exporter": "python",
   "pygments_lexer": "ipython3",
   "version": "3.7.10"
  }
 },
 "nbformat": 4,
 "nbformat_minor": 5
}
