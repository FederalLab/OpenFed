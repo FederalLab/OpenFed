{
 "cells": [
  {
   "cell_type": "markdown",
   "id": "5ec7a3f4",
   "metadata": {},
   "source": [
    "# Paillier Crypto"
   ]
  },
  {
   "cell_type": "markdown",
   "id": "066096b5",
   "metadata": {},
   "source": [
    "## Load Public Key"
   ]
  },
  {
   "cell_type": "code",
   "execution_count": 1,
   "id": "1d94b443",
   "metadata": {},
   "outputs": [
    {
     "name": "stdout",
     "output_type": "stream",
     "text": [
      "Load public key from /tmp/public.key\n",
      "\u001b[0;34m<OpenFed>\u001b[0m \u001b[0;35mPublicKey\u001b[0m\n",
      "n_lwe: 3000, bits: 32, bits_safe: 24, l: 64, bound: 8, p: 4294967297, q: 4294967296\n",
      "\n"
     ]
    }
   ],
   "source": [
    "import torch\n",
    "import os\n",
    "\n",
    "if not os.path.isfile('/tmp/public.key'):\n",
    "    raise FileNotFoundError(\"Public Key is not found. Generate it using the `paillier_crypto_server` script.\")\n",
    "else:\n",
    "    public_key = torch.load('/tmp/public.key')\n",
    "    print(\"Load public key from /tmp/public.key\")\n",
    "    print(public_key)"
   ]
  },
  {
   "cell_type": "markdown",
   "id": "5a71c809",
   "metadata": {},
   "source": [
    "## Download Dataset"
   ]
  },
  {
   "cell_type": "code",
   "execution_count": 2,
   "id": "e65334f0",
   "metadata": {},
   "outputs": [],
   "source": [
    "from openfed.data import IIDPartitioner, PartitionerDataset\n",
    "from torchvision.datasets import MNIST\n",
    "from torchvision.transforms import ToTensor\n",
    "\n",
    "dataset = PartitionerDataset(\n",
    "    MNIST(r'/tmp/', True, ToTensor(), download=True), total_parts=10, partitioner=IIDPartitioner())"
   ]
  },
  {
   "cell_type": "markdown",
   "id": "245cbd58",
   "metadata": {},
   "source": [
    "## Dataloader"
   ]
  },
  {
   "cell_type": "code",
   "execution_count": 3,
   "id": "42831e52",
   "metadata": {},
   "outputs": [],
   "source": [
    "from torch.utils.data import DataLoader\n",
    "\n",
    "dataloader = DataLoader(dataset, batch_size=10, shuffle=True, num_workers=0, drop_last=False)"
   ]
  },
  {
   "cell_type": "markdown",
   "id": "236bd5d5",
   "metadata": {},
   "source": [
    "## Network"
   ]
  },
  {
   "cell_type": "code",
   "execution_count": 4,
   "id": "7f2019af",
   "metadata": {},
   "outputs": [],
   "source": [
    "import torch.nn as nn\n",
    "\n",
    "network = nn.Linear(784, 10)\n",
    "loss_fn = nn.CrossEntropyLoss()"
   ]
  },
  {
   "cell_type": "markdown",
   "id": "4bb9bfa4",
   "metadata": {},
   "source": [
    "## Build Optimizer"
   ]
  },
  {
   "cell_type": "code",
   "execution_count": 5,
   "id": "1828fd44",
   "metadata": {},
   "outputs": [
    {
     "name": "stdout",
     "output_type": "stream",
     "text": [
      "\u001b[0;34m<OpenFed>\u001b[0m \u001b[0;35mGluer\u001b[0m\n",
      "Gluer_SGD_Penalizer\n",
      "\n"
     ]
    }
   ],
   "source": [
    "import torch\n",
    "\n",
    "from openfed.optim import build_fed_optim\n",
    "\n",
    "optim = torch.optim.SGD(network.parameters(), lr=0.1)\n",
    "fed_optim = build_fed_optim(optim)\n",
    "\n",
    "print(fed_optim)"
   ]
  },
  {
   "cell_type": "markdown",
   "id": "b1e35718",
   "metadata": {},
   "source": [
    "## Topology"
   ]
  },
  {
   "cell_type": "code",
   "execution_count": 6,
   "id": "191e8da6",
   "metadata": {},
   "outputs": [
    {
     "name": "stdout",
     "output_type": "stream",
     "text": [
      "openfed_follower, client, mtt=5\n",
      "Address(backend='gloo', init_method='tcp://localhost:1994', world_size=2, rank=1)\n"
     ]
    }
   ],
   "source": [
    "import openfed\n",
    "\n",
    "server_node = openfed.topo.Node('server', openfed.default_tcp_address, mtt=5)\n",
    "client = openfed.topo.Node('client', openfed.empty_address, mtt=5)\n",
    "\n",
    "topology = openfed.topo.Topology()\n",
    "topology.add_edge(client, server_node)\n",
    "\n",
    "federated_group_props = topology.analysis(client)[0]\n",
    "\n",
    "print(federated_group_props)\n"
   ]
  },
  {
   "cell_type": "markdown",
   "id": "6d6e6a1a",
   "metadata": {},
   "source": [
    "## API"
   ]
  },
  {
   "cell_type": "code",
   "execution_count": 7,
   "id": "9eb8b61c",
   "metadata": {},
   "outputs": [
    {
     "name": "stdout",
     "output_type": "stream",
     "text": [
      "<openfed.api.API object at 0x7faa8843c850>\n"
     ]
    }
   ],
   "source": [
    "from openfed import API\n",
    "\n",
    "openfed_api = API(\n",
    "    state_dict=network.state_dict(keep_vars=True),\n",
    "    fed_optim=fed_optim)\n",
    "\n",
    "print(openfed_api)"
   ]
  },
  {
   "cell_type": "markdown",
   "id": "866ac21e",
   "metadata": {},
   "source": [
    "## Paillier Crypto Hook"
   ]
  },
  {
   "cell_type": "code",
   "execution_count": 8,
   "id": "88fbefe6",
   "metadata": {},
   "outputs": [
    {
     "name": "stdout",
     "output_type": "stream",
     "text": [
      "<openfed.hooks.cypher.paillier_crypto.PaillierCrypto object at 0x7faa8843c390>\n"
     ]
    }
   ],
   "source": [
    "from openfed.hooks import PaillierCrypto\n",
    "\n",
    "with openfed_api:\n",
    "    paillier_crypto = PaillierCrypto(public_key)\n",
    "    print(paillier_crypto)"
   ]
  },
  {
   "cell_type": "markdown",
   "id": "5c92314f",
   "metadata": {},
   "source": [
    "## Connection"
   ]
  },
  {
   "cell_type": "code",
   "execution_count": 9,
   "id": "780f127e",
   "metadata": {},
   "outputs": [],
   "source": [
    "openfed_api.build_connection(federated_group_props)"
   ]
  },
  {
   "cell_type": "markdown",
   "id": "404a5094",
   "metadata": {},
   "source": [
    "## Train Loop"
   ]
  },
  {
   "cell_type": "code",
   "execution_count": 10,
   "id": "7f6b312a",
   "metadata": {},
   "outputs": [
    {
     "name": "stdout",
     "output_type": "stream",
     "text": [
      "Select part_id=4\n",
      "Outter: 0, Inner: 0, version: 0, loss: 0.57, duration: 0.69\n",
      "Select part_id=3\n",
      "Outter: 0, Inner: 1, version: 0, loss: 0.55, duration: 0.63\n",
      "Select part_id=2\n",
      "Outter: 1, Inner: 0, version: 1, loss: 0.42, duration: 0.76\n",
      "Select part_id=9\n",
      "Outter: 1, Inner: 1, version: 1, loss: 0.31, duration: 0.78\n",
      "Select part_id=2\n",
      "Outter: 2, Inner: 0, version: 2, loss: 0.37, duration: 0.77\n",
      "Select part_id=7\n",
      "Outter: 2, Inner: 1, version: 2, loss: 0.38, duration: 0.72\n",
      "Select part_id=9\n",
      "Outter: 3, Inner: 0, version: 3, loss: 0.27, duration: 0.64\n",
      "Select part_id=1\n",
      "Outter: 3, Inner: 1, version: 3, loss: 0.34, duration: 0.62\n",
      "Select part_id=2\n",
      "Outter: 4, Inner: 0, version: 4, loss: 0.34, duration: 0.65\n",
      "Select part_id=0\n",
      "Outter: 4, Inner: 1, version: 4, loss: 0.31, duration: 0.68\n",
      "Finished.\n"
     ]
    }
   ],
   "source": [
    "import random\n",
    "import time\n",
    "\n",
    "version = 0\n",
    "outter_losses = []\n",
    "for outter in range(5):\n",
    "    outter_loss = []\n",
    "    for inner in range(2):\n",
    "        openfed_api.update_version(version)\n",
    "        openfed_api.step(upload=False)\n",
    "        \n",
    "        part_id = random.randint(0, 9)\n",
    "        print(f\"Select part_id={part_id}\")\n",
    "        dataset.set_part_id(part_id)\n",
    "        \n",
    "        network.train()\n",
    "        losses = []\n",
    "        tic = time.time()\n",
    "        for data in dataloader:\n",
    "            x, y = data\n",
    "            output = network(x.view(-1, 784))\n",
    "            loss = loss_fn(output, y)\n",
    "\n",
    "            fed_optim.zero_grad()\n",
    "            loss.backward()\n",
    "            fed_optim.step()\n",
    "            losses.append(loss.item())\n",
    "        toc = time.time()\n",
    "        loss = sum(losses)/len(losses)\n",
    "        duration = toc-tic\n",
    "\n",
    "        fed_optim.round()\n",
    "\n",
    "        openfed_api.update_version(version + 1)\n",
    "        openfed_api.step(download=False)\n",
    "        fed_optim.clear_buffer()\n",
    "        outter_loss.append(loss)\n",
    "        print(f\"Outter: {outter}, Inner: {inner}, version: {version}, loss: {loss:.2f}, duration: {duration:.2f}\")\n",
    "    version += 1\n",
    "    outter_losses.append(sum(outter_loss) / len(outter_loss))\n",
    "print(\"Finished.\")"
   ]
  },
  {
   "cell_type": "markdown",
   "id": "3adb04f5",
   "metadata": {},
   "source": [
    "## Loss"
   ]
  },
  {
   "cell_type": "code",
   "execution_count": 11,
   "id": "22fca172",
   "metadata": {},
   "outputs": [
    {
     "data": {
      "image/png": "[encoded data removed]",
      "text/plain": [
       "<Figure size 432x288 with 1 Axes>"
      ]
     },
     "metadata": {
      "needs_background": "light"
     },
     "output_type": "display_data"
    }
   ],
   "source": [
    "%matplotlib inline\n",
    "\n",
    "import matplotlib.pyplot as plt\n",
    "\n",
    "plt.figure()\n",
    "plt.plot(outter_losses)\n",
    "plt.show()"
   ]
  }
 ],
 "metadata": {
  "kernelspec": {
   "display_name": "Python 3",
   "language": "python",
   "name": "python3"
  },
  "language_info": {
   "codemirror_mode": {
    "name": "ipython",
    "version": 3
   },
   "file_extension": ".py",
   "mimetype": "text/x-python",
   "name": "python",
   "nbconvert_exporter": "python",
   "pygments_lexer": "ipython3",
   "version": "3.7.10"
  }
 },
 "nbformat": 4,
 "nbformat_minor": 5
}
