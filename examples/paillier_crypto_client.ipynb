{
 "cells": [
  {
   "cell_type": "markdown",
   "id": "5ec7a3f4",
   "metadata": {},
   "source": [
    "# Paillier Crypto"
   ]
  },
  {
   "cell_type": "markdown",
   "id": "066096b5",
   "metadata": {},
   "source": [
    "## Load Public Key"
   ]
  },
  {
   "cell_type": "code",
   "execution_count": 1,
   "id": "1d94b443",
   "metadata": {},
   "outputs": [
    {
     "name": "stdout",
     "output_type": "stream",
     "text": [
      "Load public key from /tmp/public.key\n",
      "\u001b[0;34m<OpenFed>\u001b[0m \u001b[0;35mPublicKey\u001b[0m\n",
      "n_lwe: 3000, bits: 32, bits_safe: 24, l: 64, bound: 8, p: 4294967297, q: 4294967296\n",
      "\n"
     ]
    },
    {
     "name": "stderr",
     "output_type": "stream",
     "text": [
      "/Users/densechen/miniconda3/envs/openfed/lib/python3.7/site-packages/openfed-0.0.0-py3.7.egg/openfed/third_party/mmcv/__init__.py:13: UserWarning: `openfed.third_party.mmcv` module requires `mmcv` package, but not found. You can install it from https://github.com/open-mmlab/mmcv.\n"
     ]
    }
   ],
   "source": [
    "import torch\n",
    "import os\n",
    "\n",
    "if not os.path.isfile('/tmp/public.key'):\n",
    "    raise FileNotFoundError(\"Public Key is not found. Generate it using the `paillier_crypto_server` script.\")\n",
    "else:\n",
    "    public_key = torch.load('/tmp/public.key')\n",
    "    print(\"Load public key from /tmp/public.key\")\n",
    "    print(public_key)"
   ]
  },
  {
   "cell_type": "markdown",
   "id": "5a71c809",
   "metadata": {},
   "source": [
    "## Download Dataset"
   ]
  },
  {
   "cell_type": "code",
   "execution_count": 2,
   "id": "e65334f0",
   "metadata": {},
   "outputs": [],
   "source": [
    "from openfed.data import IIDPartitioner, PartitionerDataset\n",
    "from torchvision.datasets import MNIST\n",
    "from torchvision.transforms import ToTensor\n",
    "\n",
    "dataset = PartitionerDataset(\n",
    "    MNIST(r'/tmp/', True, ToTensor(), download=True), total_parts=10, partitioner=IIDPartitioner())"
   ]
  },
  {
   "cell_type": "markdown",
   "id": "245cbd58",
   "metadata": {},
   "source": [
    "## Dataloader"
   ]
  },
  {
   "cell_type": "code",
   "execution_count": 3,
   "id": "42831e52",
   "metadata": {},
   "outputs": [],
   "source": [
    "from torch.utils.data import DataLoader\n",
    "\n",
    "dataloader = DataLoader(dataset, batch_size=10, shuffle=True, num_workers=0, drop_last=False)"
   ]
  },
  {
   "cell_type": "markdown",
   "id": "236bd5d5",
   "metadata": {},
   "source": [
    "## Network"
   ]
  },
  {
   "cell_type": "code",
   "execution_count": 4,
   "id": "7f2019af",
   "metadata": {},
   "outputs": [],
   "source": [
    "import torch.nn as nn\n",
    "\n",
    "network = nn.Linear(784, 10)\n",
    "loss_fn = nn.CrossEntropyLoss()"
   ]
  },
  {
   "cell_type": "markdown",
   "id": "4bb9bfa4",
   "metadata": {},
   "source": [
    "## Build Optimizer"
   ]
  },
  {
   "cell_type": "code",
   "execution_count": 5,
   "id": "1828fd44",
   "metadata": {},
   "outputs": [
    {
     "name": "stdout",
     "output_type": "stream",
     "text": [
      "\u001b[0;34m<OpenFed>\u001b[0m \u001b[0;35mGluer\u001b[0m\n",
      "Gluer_SGD_Penalizer\n",
      "\n"
     ]
    }
   ],
   "source": [
    "import torch\n",
    "\n",
    "from openfed.optim import build_fed_optim\n",
    "\n",
    "optim = torch.optim.SGD(network.parameters(), lr=0.1)\n",
    "fed_optim = build_fed_optim(optim)\n",
    "\n",
    "print(fed_optim)"
   ]
  },
  {
   "cell_type": "markdown",
   "id": "b1e35718",
   "metadata": {},
   "source": [
    "## World"
   ]
  },
  {
   "cell_type": "code",
   "execution_count": 6,
   "id": "191e8da6",
   "metadata": {},
   "outputs": [
    {
     "name": "stdout",
     "output_type": "stream",
     "text": [
      "\u001b[0;34m<OpenFed>\u001b[0m \u001b[0;35mWorld\u001b[0m\n",
      "+-----------------+-------+-------+-----+------+\n",
      "|       role      | alive |  dal  | mtt | pipe |\n",
      "+-----------------+-------+-------+-----+------+\n",
      "| openfed_foll... |  True | False |  5  |  0   |\n",
      "+-----------------+-------+-------+-----+------+\n",
      "\n"
     ]
    }
   ],
   "source": [
    "from openfed.core import World, follower\n",
    "\n",
    "world = World(role=follower, dal=False, mtt=5)\n",
    "\n",
    "print(world)"
   ]
  },
  {
   "cell_type": "markdown",
   "id": "6d6e6a1a",
   "metadata": {},
   "source": [
    "## API"
   ]
  },
  {
   "cell_type": "code",
   "execution_count": 7,
   "id": "9eb8b61c",
   "metadata": {},
   "outputs": [
    {
     "name": "stdout",
     "output_type": "stream",
     "text": [
      "\u001b[0;34m<OpenFed>\u001b[0m \u001b[0;35mOpenFedAPI\u001b[0m\n",
      "ROLE: openfed_follower\n",
      "\n"
     ]
    }
   ],
   "source": [
    "from openfed import API\n",
    "\n",
    "openfed_api = API(\n",
    "    world=world,\n",
    "    state_dict=network.state_dict(keep_vars=True),\n",
    "    fed_optim=fed_optim)\n",
    "\n",
    "print(openfed_api)"
   ]
  },
  {
   "cell_type": "markdown",
   "id": "866ac21e",
   "metadata": {},
   "source": [
    "## Paillier Crypto Hook"
   ]
  },
  {
   "cell_type": "code",
   "execution_count": 8,
   "id": "88fbefe6",
   "metadata": {},
   "outputs": [
    {
     "name": "stdout",
     "output_type": "stream",
     "text": [
      "<openfed.hooks.cypher.paillier_crypto.PaillierCrypto object at 0x7fac00a88a90>\n"
     ]
    }
   ],
   "source": [
    "from openfed.hooks import PaillierCrypto\n",
    "\n",
    "with openfed_api:\n",
    "    paillier_crypto = PaillierCrypto(public_key)\n",
    "    print(paillier_crypto)"
   ]
  },
  {
   "cell_type": "markdown",
   "id": "ec3b6e27",
   "metadata": {},
   "source": [
    "## Address"
   ]
  },
  {
   "cell_type": "code",
   "execution_count": 9,
   "id": "186493f7",
   "metadata": {},
   "outputs": [
    {
     "name": "stdout",
     "output_type": "stream",
     "text": [
      "Address(backend='gloo', init_method='tcp://localhost:1994', world_size=2, rank=-1, store=None, group_name='OpenFed')\n"
     ]
    }
   ],
   "source": [
    "from openfed.common import default_tcp_address\n",
    "\n",
    "address = default_tcp_address\n",
    "\n",
    "print(address)"
   ]
  },
  {
   "cell_type": "markdown",
   "id": "5c92314f",
   "metadata": {},
   "source": [
    "## Connection"
   ]
  },
  {
   "cell_type": "code",
   "execution_count": 10,
   "id": "780f127e",
   "metadata": {},
   "outputs": [
    {
     "name": "stdout",
     "output_type": "stream",
     "text": [
      "\u001b[0;34m<OpenFed>\u001b[0m \u001b[0;35mMaintainer\u001b[0m\n",
      "+---------+----------+---------+\n",
      "| Pending | Finished | Discard |\n",
      "+---------+----------+---------+\n",
      "|    0    |    1     |    0    |\n",
      "+---------+----------+---------+\n",
      "\n"
     ]
    }
   ],
   "source": [
    "openfed_api.build_connection(address=address)\n",
    "\n",
    "print(openfed_api.maintainer)"
   ]
  },
  {
   "cell_type": "markdown",
   "id": "404a5094",
   "metadata": {},
   "source": [
    "## Train Loop"
   ]
  },
  {
   "cell_type": "code",
   "execution_count": 11,
   "id": "7f6b312a",
   "metadata": {},
   "outputs": [
    {
     "name": "stdout",
     "output_type": "stream",
     "text": [
      "Finished.\n"
     ]
    }
   ],
   "source": [
    "import random\n",
    "import time\n",
    "\n",
    "version = 0\n",
    "outter_losses = []\n",
    "for outter in range(50):\n",
    "    success = True\n",
    "    inner_losses = []\n",
    "    for inner in range(2):\n",
    "        openfed_api.update_version(version)\n",
    "        if not openfed_api.transfer(to=False):\n",
    "            print(\"Download failed.\")\n",
    "            success = False\n",
    "            break\n",
    "            \n",
    "        part_id = random.randint(0, 9)\n",
    "        dataset.set_part_id(part_id)\n",
    "        \n",
    "        network.train()\n",
    "        losses = []\n",
    "        tic = time.time()\n",
    "        for data in dataloader:\n",
    "            x, y = data\n",
    "            output = network(x.view(-1, 784))\n",
    "            loss = loss_fn(output, y)\n",
    "\n",
    "            fed_optim.zero_grad()\n",
    "            loss.backward()\n",
    "            fed_optim.step()\n",
    "            losses.append(loss.item())\n",
    "        toc = time.time()\n",
    "        loss = sum(losses)/len(losses)\n",
    "        duration = toc-tic\n",
    "\n",
    "        fed_optim.round()\n",
    "        openfed_api.update_version(version+1)\n",
    "        \n",
    "        if not openfed_api.transfer(to=True):\n",
    "            print(\"Upload failed.\")\n",
    "            success = False\n",
    "            break\n",
    "        else:\n",
    "            fed_optim.clear_buffer()\n",
    "\n",
    "        inner_losses.append(loss)\n",
    "    outter_losses.append(sum(inner_losses) / len(inner_losses))\n",
    "    if not success:\n",
    "        break\n",
    "    version += 1\n",
    "print(\"Finished.\")"
   ]
  },
  {
   "cell_type": "markdown",
   "id": "3adb04f5",
   "metadata": {},
   "source": [
    "## Loss"
   ]
  },
  {
   "cell_type": "code",
   "execution_count": 12,
   "id": "22fca172",
   "metadata": {},
   "outputs": [
    {
     "data": {
      "image/png": "[encoded data removed]",
      "text/plain": [
       "<Figure size 432x288 with 1 Axes>"
      ]
     },
     "metadata": {
      "needs_background": "light"
     },
     "output_type": "display_data"
    }
   ],
   "source": [
    "%matplotlib inline\n",
    "\n",
    "import matplotlib.pyplot as plt\n",
    "\n",
    "plt.figure()\n",
    "plt.plot(outter_losses)\n",
    "plt.show()"
   ]
  }
 ],
 "metadata": {
  "kernelspec": {
   "display_name": "Python 3",
   "language": "python",
   "name": "python3"
  },
  "language_info": {
   "codemirror_mode": {
    "name": "ipython",
    "version": 3
   },
   "file_extension": ".py",
   "mimetype": "text/x-python",
   "name": "python",
   "nbconvert_exporter": "python",
   "pygments_lexer": "ipython3",
   "version": "3.7.10"
  }
 },
 "nbformat": 4,
 "nbformat_minor": 5
}
