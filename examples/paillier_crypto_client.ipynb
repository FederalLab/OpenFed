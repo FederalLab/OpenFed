{
 "cells": [
  {
   "cell_type": "markdown",
   "source": [
    "# Paillier Crypto"
   ],
   "metadata": {}
  },
  {
   "cell_type": "markdown",
   "source": [
    "## Load Public Key"
   ],
   "metadata": {}
  },
  {
   "cell_type": "code",
   "execution_count": 1,
   "source": [
    "import os\n",
    "from openfed.functional import PublicKey\n",
    "\n",
    "if not os.path.isfile('/tmp/public.key'):\n",
    "    raise FileNotFoundError(\n",
    "        \"Public Key is not found. Generate it using the `paillier_crypto_server` script.\"\n",
    "    )\n",
    "else:\n",
    "    public_key = PublicKey.load('/tmp/public.key')\n",
    "    print(\"Load public key from /tmp/public.key\")\n",
    "print(public_key)"
   ],
   "outputs": [
    {
     "output_type": "error",
     "ename": "ImportError",
     "evalue": "cannot import name 'samples_distribution' from 'openfed.data.utils' (/Users/densechen/miniconda3/envs/openfed/lib/python3.7/site-packages/openfed-0.0.0-py3.7.egg/openfed/data/utils/__init__.py)",
     "traceback": [
      "\u001b[0;31m---------------------------------------------------------------------------\u001b[0m",
      "\u001b[0;31mImportError\u001b[0m                               Traceback (most recent call last)",
      "\u001b[0;32m<ipython-input-1-630cf533ccc7>\u001b[0m in \u001b[0;36m<module>\u001b[0;34m\u001b[0m\n\u001b[1;32m      1\u001b[0m \u001b[0;32mimport\u001b[0m \u001b[0mos\u001b[0m\u001b[0;34m\u001b[0m\u001b[0;34m\u001b[0m\u001b[0m\n\u001b[0;32m----> 2\u001b[0;31m \u001b[0;32mfrom\u001b[0m \u001b[0mopenfed\u001b[0m\u001b[0;34m.\u001b[0m\u001b[0mfunctional\u001b[0m \u001b[0;32mimport\u001b[0m \u001b[0mPublicKey\u001b[0m\u001b[0;34m\u001b[0m\u001b[0;34m\u001b[0m\u001b[0m\n\u001b[0m\u001b[1;32m      3\u001b[0m \u001b[0;34m\u001b[0m\u001b[0m\n\u001b[1;32m      4\u001b[0m \u001b[0;32mif\u001b[0m \u001b[0;32mnot\u001b[0m \u001b[0mos\u001b[0m\u001b[0;34m.\u001b[0m\u001b[0mpath\u001b[0m\u001b[0;34m.\u001b[0m\u001b[0misfile\u001b[0m\u001b[0;34m(\u001b[0m\u001b[0;34m'/tmp/public.key'\u001b[0m\u001b[0;34m)\u001b[0m\u001b[0;34m:\u001b[0m\u001b[0;34m\u001b[0m\u001b[0;34m\u001b[0m\u001b[0m\n\u001b[1;32m      5\u001b[0m     raise FileNotFoundError(\n",
      "\u001b[0;32m~/miniconda3/envs/openfed/lib/python3.7/site-packages/openfed-0.0.0-py3.7.egg/openfed/__init__.py\u001b[0m in \u001b[0;36m<module>\u001b[0;34m\u001b[0m\n\u001b[1;32m      4\u001b[0m \u001b[0;34m\u001b[0m\u001b[0m\n\u001b[1;32m      5\u001b[0m \u001b[0;32mfrom\u001b[0m \u001b[0mopenfed\u001b[0m \u001b[0;32mimport\u001b[0m \u001b[0mcore\u001b[0m \u001b[0;32mas\u001b[0m \u001b[0mcore\u001b[0m\u001b[0;34m\u001b[0m\u001b[0;34m\u001b[0m\u001b[0m\n\u001b[0;32m----> 6\u001b[0;31m \u001b[0;32mfrom\u001b[0m \u001b[0mopenfed\u001b[0m \u001b[0;32mimport\u001b[0m \u001b[0mdata\u001b[0m \u001b[0;32mas\u001b[0m \u001b[0mdata\u001b[0m\u001b[0;34m\u001b[0m\u001b[0;34m\u001b[0m\u001b[0m\n\u001b[0m\u001b[1;32m      7\u001b[0m \u001b[0;32mfrom\u001b[0m \u001b[0mopenfed\u001b[0m \u001b[0;32mimport\u001b[0m \u001b[0mfederated\u001b[0m \u001b[0;32mas\u001b[0m \u001b[0mfederated\u001b[0m\u001b[0;34m\u001b[0m\u001b[0;34m\u001b[0m\u001b[0m\n\u001b[1;32m      8\u001b[0m \u001b[0;32mfrom\u001b[0m \u001b[0mopenfed\u001b[0m \u001b[0;32mimport\u001b[0m \u001b[0mfunctional\u001b[0m \u001b[0;32mas\u001b[0m \u001b[0mF\u001b[0m\u001b[0;34m\u001b[0m\u001b[0;34m\u001b[0m\u001b[0m\n",
      "\u001b[0;32m~/miniconda3/envs/openfed/lib/python3.7/site-packages/openfed-0.0.0-py3.7.egg/openfed/data/__init__.py\u001b[0m in \u001b[0;36m<module>\u001b[0;34m\u001b[0m\n\u001b[1;32m      3\u001b[0m from .partitioner import (DirichletPartitioner, IIDPartitioner, Partitioner,\n\u001b[1;32m      4\u001b[0m                           PowerLawPartitioner)\n\u001b[0;32m----> 5\u001b[0;31m \u001b[0;32mfrom\u001b[0m \u001b[0;34m.\u001b[0m\u001b[0mutils\u001b[0m \u001b[0;32mimport\u001b[0m \u001b[0msamples_distribution\u001b[0m\u001b[0;34m\u001b[0m\u001b[0;34m\u001b[0m\u001b[0m\n\u001b[0m",
      "\u001b[0;31mImportError\u001b[0m: cannot import name 'samples_distribution' from 'openfed.data.utils' (/Users/densechen/miniconda3/envs/openfed/lib/python3.7/site-packages/openfed-0.0.0-py3.7.egg/openfed/data/utils/__init__.py)"
     ]
    }
   ],
   "metadata": {}
  },
  {
   "cell_type": "markdown",
   "source": [
    "## Download Dataset"
   ],
   "metadata": {}
  },
  {
   "cell_type": "code",
   "execution_count": 1,
   "source": [
    "from openfed.data import IIDPartitioner, PartitionerDataset\n",
    "from torchvision.datasets import MNIST\n",
    "from torchvision.transforms import ToTensor\n",
    "\n",
    "dataset = PartitionerDataset(\n",
    "    MNIST(r'/tmp/', True, ToTensor(), download=True), total_parts=10, partitioner=IIDPartitioner())\n",
    "import openfed\n",
    "from openfed.data.utils import samples_distribution\n",
    "\n",
    "digest(dataset, True)"
   ],
   "outputs": [
    {
     "output_type": "error",
     "ename": "ImportError",
     "evalue": "cannot import name 'samples_distribution' from 'openfed.data.utils' (/Users/densechen/miniconda3/envs/openfed/lib/python3.7/site-packages/openfed-0.0.0-py3.7.egg/openfed/data/utils/__init__.py)",
     "traceback": [
      "\u001b[0;31m---------------------------------------------------------------------------\u001b[0m",
      "\u001b[0;31mImportError\u001b[0m                               Traceback (most recent call last)",
      "\u001b[0;32m<ipython-input-1-df8a22aebbeb>\u001b[0m in \u001b[0;36m<module>\u001b[0;34m\u001b[0m\n\u001b[0;32m----> 1\u001b[0;31m \u001b[0;32mfrom\u001b[0m \u001b[0mopenfed\u001b[0m\u001b[0;34m.\u001b[0m\u001b[0mdata\u001b[0m \u001b[0;32mimport\u001b[0m \u001b[0mIIDPartitioner\u001b[0m\u001b[0;34m,\u001b[0m \u001b[0mPartitionerDataset\u001b[0m\u001b[0;34m\u001b[0m\u001b[0;34m\u001b[0m\u001b[0m\n\u001b[0m\u001b[1;32m      2\u001b[0m \u001b[0;32mfrom\u001b[0m \u001b[0mtorchvision\u001b[0m\u001b[0;34m.\u001b[0m\u001b[0mdatasets\u001b[0m \u001b[0;32mimport\u001b[0m \u001b[0mMNIST\u001b[0m\u001b[0;34m\u001b[0m\u001b[0;34m\u001b[0m\u001b[0m\n\u001b[1;32m      3\u001b[0m \u001b[0;32mfrom\u001b[0m \u001b[0mtorchvision\u001b[0m\u001b[0;34m.\u001b[0m\u001b[0mtransforms\u001b[0m \u001b[0;32mimport\u001b[0m \u001b[0mToTensor\u001b[0m\u001b[0;34m\u001b[0m\u001b[0;34m\u001b[0m\u001b[0m\n\u001b[1;32m      4\u001b[0m \u001b[0;34m\u001b[0m\u001b[0m\n\u001b[1;32m      5\u001b[0m dataset = PartitionerDataset(\n",
      "\u001b[0;32m~/miniconda3/envs/openfed/lib/python3.7/site-packages/openfed-0.0.0-py3.7.egg/openfed/__init__.py\u001b[0m in \u001b[0;36m<module>\u001b[0;34m\u001b[0m\n\u001b[1;32m      4\u001b[0m \u001b[0;34m\u001b[0m\u001b[0m\n\u001b[1;32m      5\u001b[0m \u001b[0;32mfrom\u001b[0m \u001b[0mopenfed\u001b[0m \u001b[0;32mimport\u001b[0m \u001b[0mcore\u001b[0m \u001b[0;32mas\u001b[0m \u001b[0mcore\u001b[0m\u001b[0;34m\u001b[0m\u001b[0;34m\u001b[0m\u001b[0m\n\u001b[0;32m----> 6\u001b[0;31m \u001b[0;32mfrom\u001b[0m \u001b[0mopenfed\u001b[0m \u001b[0;32mimport\u001b[0m \u001b[0mdata\u001b[0m \u001b[0;32mas\u001b[0m \u001b[0mdata\u001b[0m\u001b[0;34m\u001b[0m\u001b[0;34m\u001b[0m\u001b[0m\n\u001b[0m\u001b[1;32m      7\u001b[0m \u001b[0;32mfrom\u001b[0m \u001b[0mopenfed\u001b[0m \u001b[0;32mimport\u001b[0m \u001b[0mfederated\u001b[0m \u001b[0;32mas\u001b[0m \u001b[0mfederated\u001b[0m\u001b[0;34m\u001b[0m\u001b[0;34m\u001b[0m\u001b[0m\n\u001b[1;32m      8\u001b[0m \u001b[0;32mfrom\u001b[0m \u001b[0mopenfed\u001b[0m \u001b[0;32mimport\u001b[0m \u001b[0mfunctional\u001b[0m \u001b[0;32mas\u001b[0m \u001b[0mF\u001b[0m\u001b[0;34m\u001b[0m\u001b[0;34m\u001b[0m\u001b[0m\n",
      "\u001b[0;32m~/miniconda3/envs/openfed/lib/python3.7/site-packages/openfed-0.0.0-py3.7.egg/openfed/data/__init__.py\u001b[0m in \u001b[0;36m<module>\u001b[0;34m\u001b[0m\n\u001b[1;32m      3\u001b[0m from .partitioner import (DirichletPartitioner, IIDPartitioner, Partitioner,\n\u001b[1;32m      4\u001b[0m                           PowerLawPartitioner)\n\u001b[0;32m----> 5\u001b[0;31m \u001b[0;32mfrom\u001b[0m \u001b[0;34m.\u001b[0m\u001b[0mutils\u001b[0m \u001b[0;32mimport\u001b[0m \u001b[0msamples_distribution\u001b[0m\u001b[0;34m\u001b[0m\u001b[0;34m\u001b[0m\u001b[0m\n\u001b[0m",
      "\u001b[0;31mImportError\u001b[0m: cannot import name 'samples_distribution' from 'openfed.data.utils' (/Users/densechen/miniconda3/envs/openfed/lib/python3.7/site-packages/openfed-0.0.0-py3.7.egg/openfed/data/utils/__init__.py)"
     ]
    }
   ],
   "metadata": {}
  },
  {
   "cell_type": "markdown",
   "source": [
    "## Dataloader"
   ],
   "metadata": {}
  },
  {
   "cell_type": "code",
   "execution_count": 3,
   "source": [
    "from torch.utils.data import DataLoader\n",
    "\n",
    "dataloader = DataLoader(dataset, batch_size=10, shuffle=True, num_workers=0, drop_last=False)"
   ],
   "outputs": [],
   "metadata": {}
  },
  {
   "cell_type": "markdown",
   "source": [
    "## Network"
   ],
   "metadata": {}
  },
  {
   "cell_type": "code",
   "execution_count": 4,
   "source": [
    "import torch.nn as nn\n",
    "\n",
    "network = nn.Linear(784, 10)\n",
    "loss_fn = nn.CrossEntropyLoss()"
   ],
   "outputs": [],
   "metadata": {}
  },
  {
   "cell_type": "markdown",
   "source": [
    "## Optimizer"
   ],
   "metadata": {}
  },
  {
   "cell_type": "code",
   "execution_count": 5,
   "source": [
    "import torch\n",
    "from openfed.federated import collaborator\n",
    "from openfed.optim import FederatedOptimizer\n",
    "\n",
    "optim = torch.optim.SGD(network.parameters(), lr=0.1)\n",
    "fed_optim = FederatedOptimizer(optim, role=collaborator)\n",
    "\n",
    "print(fed_optim)"
   ],
   "outputs": [
    {
     "output_type": "stream",
     "name": "stdout",
     "text": [
      "\u001b[0;34m<OpenFed>\u001b[0m \u001b[0;35mFederatedOptimizer\u001b[0m\n",
      "SGD (\n",
      "Parameter Group 0\n",
      "    dampening: 0\n",
      "    lr: 0.1\n",
      "    momentum: 0\n",
      "    nesterov: False\n",
      "    weight_decay: 0\n",
      ")\n",
      "\n"
     ]
    }
   ],
   "metadata": {}
  },
  {
   "cell_type": "markdown",
   "source": [
    "## Topology"
   ],
   "metadata": {}
  },
  {
   "cell_type": "code",
   "execution_count": 6,
   "source": [
    "import openfed\n",
    "from openfed.topo import Node, Topology, analysis\n",
    "\n",
    "server_node = Node('server', openfed.default_tcp_address)\n",
    "client = Node('client', openfed.empty_address)\n",
    "\n",
    "topology = Topology()\n",
    "topology.add_edge(client, server_node)\n",
    "\n",
    "fed_props = analysis(topology, client)[0]\n",
    "\n",
    "print(fed_props)"
   ],
   "outputs": [
    {
     "output_type": "stream",
     "name": "stdout",
     "text": [
      "\u001b[0;34m<OpenFed>\u001b[0m \u001b[0;35mFederatedProperties\u001b[0m\n",
      "+------------------+-----------+\n",
      "|       role       | nick_name |\n",
      "+------------------+-----------+\n",
      "| openfed_collaborator |   client  |\n",
      "+------------------+-----------+\n",
      "\u001b[0;34m<OpenFed>\u001b[0m \u001b[0;35mAddress\u001b[0m\n",
      "+---------+---------------------+------------+------+\n",
      "| backend |     init_method     | world_size | rank |\n",
      "+---------+---------------------+------------+------+\n",
      "|   gloo  | tcp://localhost:... |     2      |  1   |\n",
      "+---------+---------------------+------------+------+\n",
      "\n",
      "\n"
     ]
    }
   ],
   "metadata": {}
  },
  {
   "cell_type": "markdown",
   "source": [
    "## Maintainer"
   ],
   "metadata": {}
  },
  {
   "cell_type": "code",
   "execution_count": 7,
   "source": [
    "from openfed.core import Maintainer\n",
    "\n",
    "mt = Maintainer(fed_props, network.state_dict(keep_vars=True))\n",
    "\n",
    "print(mt)\n",
    "\n",
    "with mt:\n",
    "    openfed.F.paillier(public_key)"
   ],
   "outputs": [
    {
     "output_type": "stream",
     "name": "stdout",
     "text": [
      "\u001b[0;34m<OpenFed>\u001b[0m \u001b[0;35mMaintainer\u001b[0m\n",
      "+------------------+-----------+-------+\n",
      "|       role       | nick_name | pipes |\n",
      "+------------------+-----------+-------+\n",
      "| openfed_collaborator |   client  |   1   |\n",
      "+------------------+-----------+-------+\n",
      "\n"
     ]
    }
   ],
   "metadata": {}
  },
  {
   "cell_type": "markdown",
   "source": [
    "## Step"
   ],
   "metadata": {}
  },
  {
   "cell_type": "code",
   "execution_count": 8,
   "source": [
    "\n",
    "import random\n",
    "import time\n",
    "\n",
    "version = 0\n",
    "outter_losses = []\n",
    "for outter in range(5):\n",
    "    outter_loss = []\n",
    "    for inner in range(2):\n",
    "        mt.update_version(version)\n",
    "        mt.step(upload=False)\n",
    "\n",
    "        part_id = random.randint(0, 9)\n",
    "        print(f\"Select part_id={part_id}\")\n",
    "        dataset.set_part_id(part_id)\n",
    "\n",
    "        network.train()\n",
    "        losses = []\n",
    "        tic = time.time()\n",
    "        for data in dataloader:\n",
    "            x, y = data\n",
    "            output = network(x.view(-1, 784))\n",
    "            loss = loss_fn(output, y)\n",
    "\n",
    "            fed_optim.zero_grad()\n",
    "            loss.backward()\n",
    "            fed_optim.step()\n",
    "            losses.append(loss.item())\n",
    "        toc = time.time()\n",
    "        loss = sum(losses) / len(losses)\n",
    "        outter_loss.append(loss)\n",
    "        duration = toc - tic\n",
    "\n",
    "        fed_optim.round()\n",
    "\n",
    "        mt.update_version(version + 1)\n",
    "        mt.package(fed_optim)\n",
    "        mt.step(download=False)\n",
    "        fed_optim.clear_state_dict()\n",
    "\n",
    "        print(\n",
    "            f\"Outter: {outter}, Inner: {inner}, version: {version}, loss: {loss:.2f}, duration: {duration:.2f}\"\n",
    "        )\n",
    "\n",
    "    version += 1\n",
    "    outter_losses.append(sum(outter_loss) / len(outter_loss))"
   ],
   "outputs": [
    {
     "output_type": "stream",
     "name": "stdout",
     "text": [
      "Select part_id=9\n",
      "Outter: 0, Inner: 0, version: 0, loss: 0.49, duration: 0.79\n",
      "Select part_id=8\n",
      "Outter: 0, Inner: 1, version: 0, loss: 0.41, duration: 0.75\n",
      "Select part_id=4\n",
      "Outter: 1, Inner: 0, version: 1, loss: 0.36, duration: 0.71\n",
      "Select part_id=6\n",
      "Outter: 1, Inner: 1, version: 1, loss: 0.36, duration: 0.79\n",
      "Select part_id=9\n",
      "Outter: 2, Inner: 0, version: 2, loss: 0.26, duration: 0.75\n",
      "Select part_id=8\n",
      "Outter: 2, Inner: 1, version: 2, loss: 0.34, duration: 0.66\n",
      "Select part_id=7\n",
      "Outter: 3, Inner: 0, version: 3, loss: 0.34, duration: 0.70\n",
      "Select part_id=8\n",
      "Outter: 3, Inner: 1, version: 3, loss: 0.31, duration: 0.78\n",
      "Select part_id=4\n",
      "Outter: 4, Inner: 0, version: 4, loss: 0.31, duration: 0.75\n",
      "Select part_id=9\n",
      "Outter: 4, Inner: 1, version: 4, loss: 0.24, duration: 0.71\n"
     ]
    }
   ],
   "metadata": {}
  },
  {
   "cell_type": "markdown",
   "source": [
    "## Loss"
   ],
   "metadata": {}
  },
  {
   "cell_type": "code",
   "execution_count": 9,
   "source": [
    "%matplotlib inline\n",
    "\n",
    "import matplotlib.pyplot as plt\n",
    "\n",
    "plt.figure()\n",
    "plt.plot(outter_losses)\n",
    "plt.show()"
   ],
   "outputs": [
    {
     "output_type": "display_data",
     "data": {
      "image/png": "[encoded data removed]",
      "text/plain": [
       "<Figure size 432x288 with 1 Axes>"
      ]
     },
     "metadata": {
      "needs_background": "light"
     }
    }
   ],
   "metadata": {}
  }
 ],
 "metadata": {
  "kernelspec": {
   "name": "python3",
   "display_name": "Python 3.7.10 64-bit ('openfed': conda)"
  },
  "language_info": {
   "codemirror_mode": {
    "name": "ipython",
    "version": 3
   },
   "file_extension": ".py",
   "mimetype": "text/x-python",
   "name": "python",
   "nbconvert_exporter": "python",
   "pygments_lexer": "ipython3",
   "version": "3.7.10"
  },
  "interpreter": {
   "hash": "0e6fd2d1cd7e2d86bf1f0b979bf122c4f5767f524de329087879d3b4cf9f9436"
  }
 },
 "nbformat": 4,
 "nbformat_minor": 5
}