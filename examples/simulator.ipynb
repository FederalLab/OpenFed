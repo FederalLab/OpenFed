{
 "cells": [
  {
   "cell_type": "markdown",
   "id": "49e4bd49",
   "metadata": {},
   "source": [
    "# Simulator"
   ]
  },
  {
   "cell_type": "markdown",
   "id": "118cbc28",
   "metadata": {},
   "source": [
    "This script provides a most simplest way to do federated learning with simultor."
   ]
  },
  {
   "cell_type": "markdown",
   "id": "341b42bc",
   "metadata": {},
   "source": [
    "## Script"
   ]
  },
  {
   "cell_type": "code",
   "execution_count": null,
   "id": "43ea6f80",
   "metadata": {},
   "outputs": [],
   "source": [
    "import argparse\n",
    "import random\n",
    "import torch\n",
    "import torch.nn as nn\n",
    "from torch.utils.data import DataLoader\n",
    "from torchvision.datasets import MNIST\n",
    "from torchvision.transforms import ToTensor\n",
    "\n",
    "import openfed\n",
    "from openfed.data import IIDPartitioner, PartitionerDataset\n",
    "\n",
    "parser = argparse.ArgumentParser(description='Simulator')\n",
    "parser.add_argument('--props', type=str, default='/tmp/aggregator.json')\n",
    "args = parser.parse_args()\n",
    "\n",
    "props = openfed.federated.FederatedProperties.load(args.props)\n",
    "assert len(props) == 1\n",
    "props = props[0]\n",
    "\n",
    "network = nn.Linear(784, 10)\n",
    "loss_fn = nn.CrossEntropyLoss()\n",
    "\n",
    "sgd = torch.optim.SGD(\n",
    "    network.parameters(), lr=1.0 if props.aggregator else 0.1)\n",
    "fed_sgd = openfed.optim.FederatedOptimizer(sgd, props.role)\n",
    "\n",
    "maintainer = openfed.core.Maintainer(props, network.state_dict(keep_vars=True))\n",
    "\n",
    "with maintainer:\n",
    "    openfed.functional.device_alignment()\n",
    "    if props.aggregator:\n",
    "        openfed.functional.count_step(props.address.world_size - 1)\n",
    "\n",
    "rounds = 10\n",
    "if maintainer.aggregator:\n",
    "    api = openfed.API(maintainer, fed_sgd, rounds,\n",
    "                      openfed.functional.average_aggregation)\n",
    "    api.run()\n",
    "else:\n",
    "    mnist = MNIST(r'/tmp/', True, ToTensor(), download=True)\n",
    "    fed_mnist = PartitionerDataset(\n",
    "        mnist, total_parts=100, partitioner=IIDPartitioner())\n",
    "\n",
    "    dataloader = DataLoader(\n",
    "        fed_mnist, batch_size=10, shuffle=True, num_workers=0, drop_last=False)\n",
    "\n",
    "    version = 0\n",
    "    for outter in range(rounds):\n",
    "        maintainer.update_version(version)\n",
    "        maintainer.step(upload=False)\n",
    "\n",
    "        part_id = random.randint(0, 9)\n",
    "        fed_mnist.set_part_id(part_id)\n",
    "\n",
    "        network.train()\n",
    "        losses = []\n",
    "        for data in dataloader:\n",
    "            x, y = data\n",
    "            output = network(x.view(-1, 784))\n",
    "            loss = loss_fn(output, y)\n",
    "\n",
    "            fed_sgd.zero_grad()\n",
    "            loss.backward()\n",
    "            fed_sgd.step()\n",
    "            losses.append(loss.item())\n",
    "        loss = sum(losses) / len(losses)\n",
    "\n",
    "        fed_sgd.round()\n",
    "\n",
    "        maintainer.update_version(version + 1)\n",
    "        maintainer.package(fed_sgd)\n",
    "        maintainer.step(download=False)\n",
    "        fed_sgd.clear_state_dict()\n",
    "        version += 1"
   ]
  },
  {
   "cell_type": "markdown",
   "id": "0d318381",
   "metadata": {},
   "source": [
    "Copy and save these piece of code as `examples/run.py`."
   ]
  },
  {
   "cell_type": "markdown",
   "id": "e485bbf8",
   "metadata": {},
   "source": [
    "## Simulator"
   ]
  },
  {
   "cell_type": "code",
   "execution_count": 1,
   "id": "c0d4b83d",
   "metadata": {},
   "outputs": [
    {
     "name": "stdout",
     "output_type": "stream",
     "text": [
      "[W ProcessGroupGloo.cpp:559] Warning: Unable to resolve hostname to a (local) address. Using the loopback address as fallback. Manually set the network interface to bind to with GLOO_SOCKET_IFNAME. (function operator())\n",
      "[W ProcessGroupGloo.cpp:559] Warning: Unable to resolve hostname to a (local) address. Using the loopback address as fallback. Manually set the network interface to bind to with GLOO_SOCKET_IFNAME. (function operator())\n",
      "[W ProcessGroupGloo.cpp:559] Warning: Unable to resolve hostname to a (local) address. Using the loopback address as fallback. Manually set the network interface to bind to with GLOO_SOCKET_IFNAME. (function operator())\n",
      "[W ProcessGroupGloo.cpp:559] Warning: Unable to resolve hostname to a (local) address. Using the loopback address as fallback. Manually set the network interface to bind to with GLOO_SOCKET_IFNAME. (function operator())\n",
      "[W ProcessGroupGloo.cpp:559] Warning: Unable to resolve hostname to a (local) address. Using the loopback address as fallback. Manually set the network interface to bind to with GLOO_SOCKET_IFNAME. (function operator())\n",
      "[W ProcessGroupGloo.cpp:559] Warning: Unable to resolve hostname to a (local) address. Using the loopback address as fallback. Manually set the network interface to bind to with GLOO_SOCKET_IFNAME. (function operator())\n",
      "100%|███████████████████████████████████████████| 10/10 [00:01<00:00,  5.90it/s]\n"
     ]
    }
   ],
   "source": [
    "# Launch 6 process (1 for aggregator, 5 for collaborator) to do simulation.\n",
    "!python -m openfed.tools.simulator --nproc 6 run.py"
   ]
  },
  {
   "cell_type": "code",
   "execution_count": null,
   "id": "d1e86c17",
   "metadata": {},
   "outputs": [],
   "source": []
  }
 ],
 "metadata": {
  "kernelspec": {
   "display_name": "Python 3",
   "language": "python",
   "name": "python3"
  },
  "language_info": {
   "codemirror_mode": {
    "name": "ipython",
    "version": 3
   },
   "file_extension": ".py",
   "mimetype": "text/x-python",
   "name": "python",
   "nbconvert_exporter": "python",
   "pygments_lexer": "ipython3",
   "version": "3.7.10"
  }
 },
 "nbformat": 4,
 "nbformat_minor": 5
}
