{
 "cells": [
  {
   "cell_type": "markdown",
   "id": "39d86aa6",
   "metadata": {},
   "source": [
    "# Paillier Crypto"
   ]
  },
  {
   "cell_type": "markdown",
   "id": "009786c4",
   "metadata": {},
   "source": [
    "This script shows a simple demostration about `Paillier Crypto` algorithm on federated MNIST dataset."
   ]
  },
  {
   "cell_type": "markdown",
   "id": "9c0c2770",
   "metadata": {},
   "source": [
    "## Public and Private Key"
   ]
  },
  {
   "cell_type": "code",
   "execution_count": 1,
   "id": "0196202f",
   "metadata": {},
   "outputs": [
    {
     "name": "stdout",
     "output_type": "stream",
     "text": [
      "Found public and private key under '/tmp'\n"
     ]
    }
   ],
   "source": [
    "import os\n",
    "import torch\n",
    "\n",
    "from openfed.functional import key_gen\n",
    "\n",
    "if not os.path.isfile('/tmp/public.key') or not os.path.isfile('/tmp/private.key'):\n",
    "    public_key, private_key = key_gen()\n",
    "    public_key.save('/tmp/public.key')\n",
    "    private_key.save('/tmp/private.key')\n",
    "    print(\"Generate new public and private key.\")\n",
    "else:\n",
    "    print(\"Found public and private key under '/tmp'\")"
   ]
  },
  {
   "cell_type": "markdown",
   "id": "77dd3362",
   "metadata": {},
   "source": [
    "## Network and Loss"
   ]
  },
  {
   "cell_type": "code",
   "execution_count": 2,
   "id": "39e4f071",
   "metadata": {},
   "outputs": [],
   "source": [
    "import torch.nn as nn\n",
    "\n",
    "def build_network():\n",
    "    network = nn.Linear(784, 10)\n",
    "    loss_fn = nn.CrossEntropyLoss()\n",
    "    return network, loss_fn"
   ]
  },
  {
   "cell_type": "markdown",
   "id": "be6a4cd9",
   "metadata": {},
   "source": [
    "## Optimizer"
   ]
  },
  {
   "cell_type": "code",
   "execution_count": 3,
   "id": "e2b48f4b",
   "metadata": {},
   "outputs": [],
   "source": [
    "from openfed.federated import is_aggregator, is_collaborator\n",
    "from openfed.optim import FederatedOptimizer\n",
    "import torch.optim as optim\n",
    "\n",
    "def build_optimizer(network, role):\n",
    "    sgd = optim.SGD(network.parameters(), lr=1.0 if is_aggregator(role) else 0.1)\n",
    "    fed_sgd = FederatedOptimizer(sgd, role=role)\n",
    "    return fed_sgd"
   ]
  },
  {
   "cell_type": "markdown",
   "id": "2ebddf25",
   "metadata": {},
   "source": [
    "## Topology"
   ]
  },
  {
   "cell_type": "code",
   "execution_count": 4,
   "id": "f4e2bb70",
   "metadata": {},
   "outputs": [],
   "source": [
    "import openfed\n",
    "import openfed.topo as topo\n",
    "\n",
    "def build_topology():\n",
    "    aggregator_node = topo.Node('aggregator', address=openfed.default_tcp_address)\n",
    "    collaborator_node = topo.Node('collaborator', address=openfed.empty_address)\n",
    "    \n",
    "    topology = topo.Topology()\n",
    "    topology.add_edge(collaborator_node, aggregator_node)\n",
    "\n",
    "    return topology"
   ]
  },
  {
   "cell_type": "markdown",
   "id": "1ecf2ada",
   "metadata": {},
   "source": [
    "## Federated Group Properties"
   ]
  },
  {
   "cell_type": "code",
   "execution_count": 5,
   "id": "72f11026",
   "metadata": {},
   "outputs": [],
   "source": [
    "def build_props(topology, role):\n",
    "    fed_props = topo.analysis(topology, 'aggregator' if is_aggregator(role) else 'collaborator')\n",
    "    assert len(fed_props) == 1\n",
    "    fed_prop = fed_props[0]\n",
    "    \n",
    "    return fed_prop"
   ]
  },
  {
   "cell_type": "markdown",
   "id": "b5771e40",
   "metadata": {},
   "source": [
    "## Maintainer"
   ]
  },
  {
   "cell_type": "code",
   "execution_count": 6,
   "id": "b3c10c7b",
   "metadata": {},
   "outputs": [],
   "source": [
    "from openfed.core import Maintainer\n",
    "\n",
    "def build_maintainer(fed_prop, state_dict, role, part_per_round):\n",
    "    maintainer = Maintainer(fed_prop, state_dict)\n",
    "    \n",
    "    with maintainer:\n",
    "        openfed.functional.device_alignment()\n",
    "        if is_aggregator(role):\n",
    "            openfed.functional.count_step(part_per_round)\n",
    "        else:\n",
    "            public_key = openfed.functional.PublicKey.load('/tmp/public.key')\n",
    "            openfed.functional.paillier_package(public_key)\n",
    "    return maintainer"
   ]
  },
  {
   "cell_type": "markdown",
   "id": "7883cab7",
   "metadata": {},
   "source": [
    "## Dataset"
   ]
  },
  {
   "cell_type": "code",
   "execution_count": 7,
   "id": "10712a4e",
   "metadata": {},
   "outputs": [],
   "source": [
    "from torchvision.datasets import MNIST\n",
    "from torchvision.transforms import ToTensor\n",
    "from torch.utils.data import DataLoader\n",
    "from openfed.data import IIDPartitioner, PartitionerDataset\n",
    "\n",
    "def build_dataset():\n",
    "    # Dataset\n",
    "    mnist = MNIST(r'/tmp/', True, ToTensor(), download=True)\n",
    "    fed_mnist = PartitionerDataset(mnist, total_parts=10, partitioner=IIDPartitioner())\n",
    "\n",
    "    # Dataloader\n",
    "    dataloader = DataLoader(fed_mnist, batch_size=10, shuffle=True, num_workers=0, drop_last=False)\n",
    "    \n",
    "    return dataloader"
   ]
  },
  {
   "cell_type": "markdown",
   "id": "025e53a5",
   "metadata": {},
   "source": [
    "## API"
   ]
  },
  {
   "cell_type": "code",
   "execution_count": 8,
   "id": "f4d33930",
   "metadata": {},
   "outputs": [],
   "source": [
    "def build_API(maintainer, fed_sgd, rounds):\n",
    "    private_key = openfed.functional.PrivateKey.load('/tmp/private.key')\n",
    "    api = openfed.API(maintainer,\n",
    "                fed_sgd,\n",
    "                rounds,\n",
    "                agg_func=openfed.functional.paillier_aggregation,\n",
    "                agg_func_kwargs=dict(private_key=private_key),\n",
    "               )\n",
    "    return api"
   ]
  },
  {
   "cell_type": "markdown",
   "id": "19f51fb4",
   "metadata": {},
   "source": [
    "## Step"
   ]
  },
  {
   "cell_type": "code",
   "execution_count": 9,
   "id": "7d4f63bc",
   "metadata": {},
   "outputs": [],
   "source": [
    "import random\n",
    "import time\n",
    "\n",
    "def step(mt, dataloader, network, loss_fn, fed_optim, rounds, part_per_round):\n",
    "    version = 0\n",
    "    outter_losses = []\n",
    "    for outter in range(rounds):\n",
    "        outter_loss = []\n",
    "        for inner in range(part_per_round):\n",
    "            mt.update_version(version)\n",
    "            mt.step(upload=False)\n",
    "\n",
    "            part_id = random.randint(0, 9)\n",
    "            dataloader.dataset.set_part_id(part_id)\n",
    "\n",
    "            network.train()\n",
    "            losses = []\n",
    "            tic = time.time()\n",
    "            for data in dataloader:\n",
    "                x, y = data\n",
    "                output = network(x.view(-1, 784))\n",
    "                loss = loss_fn(output, y)\n",
    "\n",
    "                fed_optim.zero_grad()\n",
    "                loss.backward()\n",
    "                fed_optim.step()\n",
    "                losses.append(loss.item())\n",
    "            toc = time.time()\n",
    "            loss = sum(losses) / len(losses)\n",
    "            outter_loss.append(loss)\n",
    "            duration = toc - tic\n",
    "\n",
    "            fed_optim.round()\n",
    "\n",
    "            mt.update_version(version + 1)\n",
    "            mt.package(fed_optim)\n",
    "            mt.step(download=False)\n",
    "            fed_optim.clear_state_dict()\n",
    "        version += 1\n",
    "        outter_losses.append(sum(outter_loss) / len(outter_loss))\n",
    "    torch.save(outter_losses, '/tmp/outter_losses')"
   ]
  },
  {
   "cell_type": "markdown",
   "id": "87d3c4bb",
   "metadata": {},
   "source": [
    "## Main Function"
   ]
  },
  {
   "cell_type": "code",
   "execution_count": 10,
   "id": "31cccce4",
   "metadata": {},
   "outputs": [],
   "source": [
    "def main_function(role, rounds, part_per_round):\n",
    "    # Network\n",
    "    network, loss_fn = build_network()\n",
    "    \n",
    "    if is_aggregator(role):\n",
    "        print(network)\n",
    "        print(loss_fn)\n",
    "    \n",
    "    # Optimizer\n",
    "    fed_sgd = build_optimizer(network, role)\n",
    "    \n",
    "    if is_aggregator(role):\n",
    "        print(fed_sgd)\n",
    "\n",
    "    # Topology\n",
    "    topology = build_topology()\n",
    "    \n",
    "    if is_aggregator(role):\n",
    "        print(topology)\n",
    "    \n",
    "    # Federated Group Properties\n",
    "    fed_prop = build_props(topology, role)\n",
    "    \n",
    "    print(fed_prop)\n",
    "    \n",
    "    # Maintainer\n",
    "    maintainer = build_maintainer(fed_prop, network.state_dict(keep_vars=True), role, part_per_round)\n",
    "\n",
    "    if is_aggregator(role):\n",
    "        api = build_API(maintainer, fed_sgd, rounds)\n",
    "        api.start()\n",
    "    else:\n",
    "        dataloader = build_dataset()\n",
    "        step(maintainer, dataloader, network, loss_fn, fed_sgd, rounds, part_per_round)"
   ]
  },
  {
   "cell_type": "markdown",
   "id": "c673fe43",
   "metadata": {},
   "source": [
    "## Enable colorize output"
   ]
  },
  {
   "cell_type": "code",
   "execution_count": 11,
   "id": "c78db9a1",
   "metadata": {},
   "outputs": [],
   "source": [
    "from openfed.utils.utils import FMT\n",
    "\n",
    "FMT.color = True"
   ]
  },
  {
   "cell_type": "markdown",
   "id": "bb98dba1",
   "metadata": {},
   "source": [
    "## Run"
   ]
  },
  {
   "cell_type": "code",
   "execution_count": 12,
   "id": "308578fb",
   "metadata": {},
   "outputs": [
    {
     "name": "stdout",
     "output_type": "stream",
     "text": [
      "Linear(in_features=784, out_features=10, bias=True)\n",
      "CrossEntropyLoss()\n",
      "\u001b[0;34m<OpenFed>\u001b[0m \u001b[0;35mFederatedProperties\u001b[0m\n",
      "+----------------------+--------------+\n",
      "|         role         |  nick_name   |\n",
      "+----------------------+--------------+\n",
      "| openfed_collaborator | collaborator |\n",
      "+----------------------+--------------+\n",
      "\u001b[0;34m<OpenFed>\u001b[0m \u001b[0;35mAddress\u001b[0m\n",
      "+---------+---------------------+------------+------+\n",
      "| backend |     init_method     | world_size | rank |\n",
      "+---------+---------------------+------------+------+\n",
      "|   gloo  | tcp://lo...ost:1994 |     2      |  1   |\n",
      "+---------+---------------------+------------+------+\n",
      "\n",
      "\n",
      "\u001b[0;34m<OpenFed>\u001b[0m \u001b[0;35mFederatedOptimizer\u001b[0m\n",
      "SGD (\n",
      "Parameter Group 0\n",
      "    dampening: 0\n",
      "    lr: 1.0\n",
      "    momentum: 0\n",
      "    nesterov: False\n",
      "    weight_decay: 0\n",
      ")\n",
      "\n",
      "+--------------+--------------+------------+\n",
      "|    CO\\AG     | collaborator | aggregator |\n",
      "+--------------+--------------+------------+\n",
      "| collaborator |      .       |     ^      |\n",
      "|  aggregator  |      .       |     .      |\n",
      "+--------------+--------------+------------+\n",
      "\u001b[0;34m<OpenFed>\u001b[0m \u001b[0;35mFederatedProperties\u001b[0m\n",
      "+--------------------+------------+\n",
      "|        role        | nick_name  |\n",
      "+--------------------+------------+\n",
      "| openfed_aggregator | aggregator |\n",
      "+--------------------+------------+\n",
      "\u001b[0;34m<OpenFed>\u001b[0m \u001b[0;35mAddress\u001b[0m\n",
      "+---------+---------------------+------------+------+\n",
      "| backend |     init_method     | world_size | rank |\n",
      "+---------+---------------------+------------+------+\n",
      "|   gloo  | tcp://lo...ost:1994 |     2      |  0   |\n",
      "+---------+---------------------+------------+------+\n",
      "\n",
      "\n"
     ]
    },
    {
     "name": "stderr",
     "output_type": "stream",
     "text": [
      "100%|██████████| 3/3 [00:12<00:00,  4.10s/it]\n"
     ]
    }
   ],
   "source": [
    "from multiprocessing import Process\n",
    "import openfed\n",
    "rounds = 3\n",
    "part_per_round = 5\n",
    "\n",
    "aggregator_pc = Process(target=main_function, args=(openfed.federated.aggregator, rounds, part_per_round))\n",
    "collaborator = Process(target=main_function, args=(openfed.federated.collaborator, rounds, part_per_round))\n",
    "\n",
    "aggregator_pc.start()\n",
    "collaborator.start()\n",
    "\n",
    "aggregator_pc.join()\n",
    "collaborator.join()"
   ]
  },
  {
   "cell_type": "markdown",
   "id": "f6e6af81",
   "metadata": {},
   "source": [
    "## Result"
   ]
  },
  {
   "cell_type": "code",
   "execution_count": 13,
   "id": "51360963",
   "metadata": {},
   "outputs": [
    {
     "data": {
      "image/png": "[encoded data removed]",
      "text/plain": [
       "<Figure size 432x288 with 1 Axes>"
      ]
     },
     "metadata": {
      "needs_background": "light"
     },
     "output_type": "display_data"
    }
   ],
   "source": [
    "%matplotlib inline\n",
    "\n",
    "import matplotlib.pyplot as plt\n",
    "\n",
    "outter_losses = torch.load('/tmp/outter_losses')\n",
    "\n",
    "plt.figure()\n",
    "plt.plot(outter_losses)\n",
    "plt.title('Round-Loss')\n",
    "plt.xlabel('Round')\n",
    "plt.ylabel('Loss')\n",
    "plt.show()"
   ]
  }
 ],
 "metadata": {
  "kernelspec": {
   "display_name": "Python 3",
   "language": "python",
   "name": "python3"
  },
  "language_info": {
   "codemirror_mode": {
    "name": "ipython",
    "version": 3
   },
   "file_extension": ".py",
   "mimetype": "text/x-python",
   "name": "python",
   "nbconvert_exporter": "python",
   "pygments_lexer": "ipython3",
   "version": "3.7.10"
  }
 },
 "nbformat": 4,
 "nbformat_minor": 5
}
